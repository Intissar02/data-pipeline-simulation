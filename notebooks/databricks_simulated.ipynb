# Simulated Databricks Notebook (Google Colab Version)

import pandas as pd

# 1. Loading the crop fertilizer dataset
df = pd.read_csv("../data/crop_fertilizer_data.csv")

# 2. Basic cleaning
df.dropna(inplace=True)

# 3. Computing total NPK (simulated feature engineering)
df['NPK_Total'] = df['Nitrogen'] + df['Phosphorus'] + df['Potassium']

# 4. Grouping by Fertilizer Type to analyze effectiveness
summary = df.groupby('Fertilizer_Type')['Yield_Tons'].mean().reset_index()

print(" Average Yield per Fertilizer Type:")
print(summary)

